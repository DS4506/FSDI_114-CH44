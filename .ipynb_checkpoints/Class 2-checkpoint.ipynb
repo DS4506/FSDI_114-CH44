{
 "cells": [
  {
   "cell_type": "code",
   "execution_count": 4,
   "id": "4f3ee558-6a37-43be-9004-9137b95546ba",
   "metadata": {},
   "outputs": [],
   "source": [
    "# Simplified implementations of Stack (relying on built-ins):\n",
    "\n",
    "class Stack:\n",
    "    def __init__(self):\n",
    "        self.items = []\n",
    "\n",
    "    def push(self, value):\n",
    "        self.items.append(value)\n",
    "\n",
    "    def pop(self):\n",
    "        return self.items.pop()\n",
    "\n",
    "    # Nice to have methods\n",
    "    def size(self):\n",
    "        return len(self.items)\n",
    "\n",
    "    def peek(self):\n",
    "        return self.items[len(self.items)-1]\n",
    "\n",
    "    def is_empty(self):\n",
    "        return self.items == []\n",
    "        \n",
    "        "
   ]
  },
  {
   "cell_type": "code",
   "execution_count": 18,
   "id": "6949ed13-3799-466f-bbc6-4b69cb91be04",
   "metadata": {},
   "outputs": [
    {
     "ename": "SyntaxError",
     "evalue": "invalid syntax (4092337535.py, line 2)",
     "output_type": "error",
     "traceback": [
      "\u001b[0;36m  Cell \u001b[0;32mIn[18], line 2\u001b[0;36m\u001b[0m\n\u001b[0;31m    Considering the reversal property of stacks,create a function that uses the `Stack` class above to invert a string.\u001b[0m\n\u001b[0m                ^\u001b[0m\n\u001b[0;31mSyntaxError\u001b[0m\u001b[0;31m:\u001b[0m invalid syntax\n"
     ]
    }
   ],
   "source": [
    "# Problem 2:\n",
    "Considering the reversal property of stacks,create a function that uses the `Stack` class above to invert a string.\n",
    "\n",
    "\n",
    "\n",
    "```\n",
    "Examples:\n",
    "invert_str(\"Rafel\") should return \"leafar\"\n",
    "invert_str(\"Star\") should return \"ratS\"\n",
    "invert_str(\"hello\") should return \"olleh\"\n",
    "```\n"
   ]
  },
  {
   "cell_type": "code",
   "execution_count": 19,
   "id": "dc7f1f0a-16b0-4b21-a07f-fd90af42d648",
   "metadata": {},
   "outputs": [
    {
     "data": {
      "text/plain": [
       "'R'"
      ]
     },
     "execution_count": 19,
     "metadata": {},
     "output_type": "execute_result"
    }
   ],
   "source": [
    "def invert_str(mystring):\n",
    "    stack = Stack()\n",
    "    for char in mystring:\n",
    "        stack.push(char)\n",
    "        out = \"\"\n",
    "        while not stack.is_empty():\n",
    "            out += stack.pop() # this is the same as: out = out + stack.pop()\n",
    "        return out\n",
    "invert_str(\"Rafael\")"
   ]
  },
  {
   "cell_type": "code",
   "execution_count": null,
   "id": "f8e21d39-b1ef-4ac3-aa1f-1d0daf0a378a",
   "metadata": {},
   "outputs": [],
   "source": [
    "# From scratch implementation of stack\n",
    "\n",
    "class StackII:\n",
    "    def __init__(self):\n",
    "        self.top = None\n",
    "\n",
    "    class__Node:\n",
    "        def __init__(self, data):\n",
    "            self.data = data\n",
    "            self.below = None\n",
    "\n",
    "    def push(self, value):\n",
    "        new_mode = self.__Node(value)\n",
    "        if not self.top:\n",
    "            self.top = new_node\n",
    "        else:\n",
    "            old_top = self.top\n",
    "            self.top = new_node\n",
    "            self.top.below = old_top\n",
    "\n",
    "    def pop(self):\n",
    "        if self.top:\n",
    "            datum = self.top.data\n",
    "            self.top = self.top.below\n",
    "            return datum\n",
    "        raise IndexError(\"Stack is empty\")\n",
    "\n",
    "    # Nice to have methods:\n",
    "    def peek(self):\n",
    "        # This should return data element at the topmost position (Node) without removing that node\n",
    "        pass\n",
    "\n",
    "    def size(self):\n",
    "        # This should return the total number of Nodes in our stack\n",
    "        pass\n",
    "\n",
    "    def is_empty(self):\n",
    "        return self.top == None"
   ]
  }
 ],
 "metadata": {
  "kernelspec": {
   "display_name": "Python 3 (ipykernel)",
   "language": "python",
   "name": "python3"
  },
  "language_info": {
   "codemirror_mode": {
    "name": "ipython",
    "version": 3
   },
   "file_extension": ".py",
   "mimetype": "text/x-python",
   "name": "python",
   "nbconvert_exporter": "python",
   "pygments_lexer": "ipython3",
   "version": "3.10.12"
  }
 },
 "nbformat": 4,
 "nbformat_minor": 5
}

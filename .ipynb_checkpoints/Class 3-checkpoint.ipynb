{
 "cells": [
  {
   "cell_type": "code",
   "execution_count": 7,
   "id": "bd6cdbe1-bc4d-4444-8418-1241331587ef",
   "metadata": {},
   "outputs": [],
   "source": [
    "# Simplified implementation of a Que (using built-ins)\n",
    "\n",
    "class Queue:\n",
    "    def __init__(self):\n",
    "        self.items\n",
    "\n",
    "    def enqueue(self, value):\n",
    "        self.items.insert(0, value)\n",
    "\n",
    "    def dequeue(self):\n",
    "        return self.items.pop()\n",
    "\n",
    "    # Nice to have methods:\n",
    "    def size(self):\n",
    "        return len(self.items)\n",
    "\n",
    "    def peek(self):\n",
    "        return self.items[len(self.items)-1]\n",
    "\n",
    "    def is_empty(self):\n",
    "        return self.items == []"
   ]
  },
  {
   "cell_type": "code",
   "execution_count": 8,
   "id": "95802a9a-7944-474c-ab25-005ba05fa061",
   "metadata": {},
   "outputs": [
    {
     "ename": "SyntaxError",
     "evalue": "invalid syntax (2967105028.py, line 5)",
     "output_type": "error",
     "traceback": [
      "\u001b[0;36m  Cell \u001b[0;32mIn[8], line 5\u001b[0;36m\u001b[0m\n\u001b[0;31m    Your class should be named Queuell\u001b[0m\n\u001b[0m         ^\u001b[0m\n\u001b[0;31mSyntaxError\u001b[0m\u001b[0;31m:\u001b[0m invalid syntax\n"
     ]
    }
   ],
   "source": [
    "# Problem 4:\n",
    "\n",
    "## Create a \"from scratch\" implementation of Queue, including, at a minimum \"enqueue\" and \"dequeue\" as its methods\n",
    "\n",
    "Your class should be named Queuell"
   ]
  },
  {
   "cell_type": "code",
   "execution_count": 2,
   "id": "d3151591-cb41-4718-a634-9fbfbaeea357",
   "metadata": {},
   "outputs": [],
   "source": [
    "# from scratch implementation of Queue\n",
    "class QueueII:\n",
    "    def __init__(self):\n",
    "        self.front = None\n",
    "        self.back = None\n",
    "class Node:\n",
    "    def __init__(self):\n",
    "     self.data = None\n",
    "     self.next = None\n",
    "\n",
    "    def enqueue(self, value):\n",
    "        new_node = Node()\n",
    "        new_node.data = value\n",
    "        if self.front is None: # Que is empty\n",
    "            self.front = new_node\n",
    "            self.back = new_node\n",
    "        else: # Queue is not empty\n",
    "            self.back.next = new_node\n",
    "            self.back = new_node\n",
    "\n",
    "    def dequeue(self):\n",
    "        if self.front is not None: # Queue is not empty\n",
    "            datum = self.front.data\n",
    "            self.front = self.front.next\n",
    "            return datum\n",
    "        else: # Queue is empty\n",
    "            print(\"Error: Queue is empty\")\n",
    "        "
   ]
  },
  {
   "cell_type": "code",
   "execution_count": null,
   "id": "c4ac90df-d7d1-41dc-a509-0babc060aa78",
   "metadata": {},
   "outputs": [],
   "source": [
    " # A recursive function is one that calls itself at least once within its's code\n",
    "\n",
    " # A very simple example:\n",
    " # The factorial function\n",
    "\n",
    " def facttorial(n):\n",
    "     if n == 0:\n",
    "         return 1\n",
    "    return n*factorial(n-1)\n",
    "\n",
    "# 5! = 5x4x3x2x1\n",
    "# 0! = 1"
   ]
  },
  {
   "cell_type": "code",
   "execution_count": 9,
   "id": "a45a78d8-f8ba-4cea-8b20-0feba874421c",
   "metadata": {},
   "outputs": [
    {
     "ename": "NameError",
     "evalue": "name 'factorial' is not defined",
     "output_type": "error",
     "traceback": [
      "\u001b[0;31m---------------------------------------------------------------------------\u001b[0m",
      "\u001b[0;31mNameError\u001b[0m                                 Traceback (most recent call last)",
      "Cell \u001b[0;32mIn[9], line 1\u001b[0m\n\u001b[0;32m----> 1\u001b[0m \u001b[43mfactorial\u001b[49m(\u001b[38;5;241m10\u001b[39m)\n\u001b[1;32m      3\u001b[0m \u001b[38;5;66;03m# 5! = 5x4!\u001b[39;00m\n\u001b[1;32m      4\u001b[0m \u001b[38;5;66;03m# 4! = 4x3!\u001b[39;00m\n",
      "\u001b[0;31mNameError\u001b[0m: name 'factorial' is not defined"
     ]
    }
   ],
   "source": [
    "factorial(10)\n",
    "\n",
    "# 5! = 5x4!\n",
    "# 4! = 4x3!"
   ]
  },
  {
   "cell_type": "code",
   "execution_count": 10,
   "id": "42f8569e-7c18-460a-ab1a-3e42604fb357",
   "metadata": {},
   "outputs": [
    {
     "data": {
      "text/plain": [
       "9227465"
      ]
     },
     "execution_count": 10,
     "metadata": {},
     "output_type": "execute_result"
    }
   ],
   "source": [
    "# Fibonacci function\n",
    "\n",
    "# F0 = 0; F1 = 1\n",
    "# Fn = Fn-1 + Fn-2\n",
    "\n",
    "# 0, 1, 1, 2, 3, 5, 8, 13, 21\n",
    "\n",
    "from functools import lru_cache\n",
    "\n",
    "@lru_cache\n",
    "def fib(n):\n",
    "    if n < 2:\n",
    "        return n\n",
    "    return fib(n-1) + fib(n-2)\n",
    "\n",
    "fib(35)"
   ]
  },
  {
   "cell_type": "code",
   "execution_count": null,
   "id": "b081d53e-c2ec-4683-8459-2829fec1595e",
   "metadata": {},
   "outputs": [],
   "source": []
  }
 ],
 "metadata": {
  "kernelspec": {
   "display_name": "Python 3 (ipykernel)",
   "language": "python",
   "name": "python3"
  },
  "language_info": {
   "codemirror_mode": {
    "name": "ipython",
    "version": 3
   },
   "file_extension": ".py",
   "mimetype": "text/x-python",
   "name": "python",
   "nbconvert_exporter": "python",
   "pygments_lexer": "ipython3",
   "version": "3.10.12"
  }
 },
 "nbformat": 4,
 "nbformat_minor": 5
}

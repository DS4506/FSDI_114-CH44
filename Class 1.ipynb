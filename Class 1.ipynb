{
 "cells": [
  {
   "cell_type": "code",
   "execution_count": 2,
   "id": "dc65c109-d98a-4e2c-9a44-8dd275b68ff2",
   "metadata": {},
   "outputs": [
    {
     "name": "stdout",
     "output_type": "stream",
     "text": [
      "h\n",
      "e\n",
      "l\n",
      "l\n",
      "o\n",
      ",\n",
      " \n",
      "w\n",
      "o\n",
      "r\n",
      "l\n",
      "d\n"
     ]
    }
   ],
   "source": [
    "for char in \"hello, world\":\n",
    "    print(char)\n",
    "     "
   ]
  },
  {
   "cell_type": "markdown",
   "id": "9d570991-4718-4e8b-930a-7d94ccb2c883",
   "metadata": {},
   "source": [
    "# problem 1\n",
    "\n",
    "# Anagram check\n",
    "Given two strings create a function that returns 'True if these are anagrams of each other, 'False' otherwise.\n",
    "\n",
    "### Acceptance Criteria\n",
    "Two strings are anagrams of each other if all the criteria below are met:\n",
    "1. They must use the same letters the same amount of times.\n",
    "2. They must be of equal length.\n",
    "   ```\n",
    "\n",
    "   Examples:\n",
    "   anagram_check(\"earth\", \"heart\") returns True\n",
    "   anagram_check(\"star\", \"rats\") returns True\n",
    "   anagram_check(\"cars\", \"scar\") returns True\n",
    "   ```\n",
    "   \n",
    "   "
   ]
  },
  {
   "cell_type": "code",
   "execution_count": null,
   "id": "c611e29d-05c4-4551-a86c-a2d96c2e1e40",
   "metadata": {},
   "outputs": [],
   "source": [
    "# Pseudocode for anagram check function:\n",
    "```\n",
    "defne my function anagram_check which receives parameters str1 and str2:\n",
    "    # first thing I need to do is level the playong field and remove spaces\n",
    "    str1 = str1 without spaces\n",
    "    str2 = str2 without spaces\n",
    "    str1 = str1 in lower case\n",
    "    str2 = str2 in lower case\n",
    "    if the length of str1 is not equal to the length of str2:\n",
    "        return false\n",
    "    otherwise:\n",
    "            # I would like track with letters I've seen and how many times:\n",
    "        dict_1 = new dictionary\n",
    "        dict_2 = new dictionary\n",
    "        for each number in the range from 0 to the length of str1:\n",
    "            if the letter at position 0 in str1 is in dict_1:\n",
    "                add 1 to the total number of times I've seen that letter\n",
    "            otherwise:\n",
    "                create a new entry in dict_1 with that letter and value set 1\n",
    "            if the letter at position 0 in str2 is in dict_2:\n",
    "                add 1 to the total number of times I've seen that letter\n",
    "            otherwise:\n",
    "                create a new enrty in dict_2 with that letter and value set to 1\n",
    "        return dict_1 == dict_2\n",
    "            \n",
    "\n",
    "```\n"
   ]
  },
  {
   "cell_type": "code",
   "execution_count": null,
   "id": "72b3b580-1786-4372-af07-e0766e989065",
   "metadata": {},
   "outputs": [],
   "source": []
  }
 ],
 "metadata": {
  "kernelspec": {
   "display_name": "Python 3 (ipykernel)",
   "language": "python",
   "name": "python3"
  },
  "language_info": {
   "codemirror_mode": {
    "name": "ipython",
    "version": 3
   },
   "file_extension": ".py",
   "mimetype": "text/x-python",
   "name": "python",
   "nbconvert_exporter": "python",
   "pygments_lexer": "ipython3",
   "version": "3.10.12"
  }
 },
 "nbformat": 4,
 "nbformat_minor": 5
}
